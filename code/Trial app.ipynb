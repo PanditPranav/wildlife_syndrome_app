{
 "cells": [
  {
   "cell_type": "code",
   "execution_count": 54,
   "id": "abf8298e",
   "metadata": {},
   "outputs": [],
   "source": [
    "import joblib\n",
    "import re\n",
    "from sklearn.neural_network import MLPClassifier\n",
    "from sklearn.feature_extraction.text import TfidfVectorizer\n",
    "#import streamlit as st\n",
    "import simplejson as json\n",
    "from sklearn.feature_extraction.text import CountVectorizer, TfidfTransformer\n",
    "import nltk\n",
    "from textblob import TextBlob\n",
    "from nltk.corpus import stopwords\n",
    "from tensorflow import keras\n",
    "from keras_preprocessing.sequence import pad_sequences\n",
    "import pickle\n",
    "import pandas as pd\n",
    "import numpy as np\n",
    "\n",
    "MAX_SEQUENCE_LENGTH = 1000\n",
    "# This is fixed.\n",
    "EMBEDDING_DIM = 200\n",
    "roc_t = 0.36430258\n",
    "\n",
    "with open('C:/Users/falco/Desktop/directory/wildlife_syndrome_app/models/keras_tokenizer_v3_08_21_2022.pickle', 'rb') as handle:\n",
    "    tokenizer = pickle.load(handle)\n",
    "\n",
    "model = keras.models.load_model('C:/Users/falco/Desktop/directory/wildlife_syndrome_app/models/model_v3_08_21_2022.h5')\n",
    "\n",
    "\n",
    "#st.write(\"# Wildlife Clinical Classification App\")\n",
    "\n",
    "#message_text = st.text_input(\"Enter text describing clincal evaluation, reason/s for admission\")\n",
    "\n",
    "REPLACE_BY_SPACE_RE = re.compile('[/(){}\\[\\]\\|@,;]')\n",
    "BAD_SYMBOLS_RE = re.compile('[^0-9a-z #+_]')\n",
    "STOPWORDS = set(stopwords.words('english'))\n",
    "labels = ['Clinically healthy', 'Dermatologic disease', 'Gastrointestinal disease', 'Hematologic disease', 'Neurologic disease', 'Nonspecific', 'Nutritional disease', 'Ocular disease', 'Physical injury', 'Respiratory disease', 'Urogenital disease']\n",
    "\n",
    "\n",
    "\n"
   ]
  },
  {
   "cell_type": "code",
   "execution_count": 39,
   "id": "ff24302a",
   "metadata": {},
   "outputs": [],
   "source": [
    "new_case = \"injured, flea ridden, flea, dirt, pale\""
   ]
  },
  {
   "cell_type": "code",
   "execution_count": 40,
   "id": "01c05beb",
   "metadata": {},
   "outputs": [
    {
     "data": {
      "text/plain": [
       "'injured flea ridden flea dirt pale'"
      ]
     },
     "execution_count": 40,
     "metadata": {},
     "output_type": "execute_result"
    }
   ],
   "source": [
    "def clean_text(text):\n",
    "    \"\"\"\n",
    "        text: a string\n",
    "        \n",
    "        return: modified initial string\n",
    "    \"\"\"\n",
    "    text = text.lower() # lowercase text\n",
    "    text = REPLACE_BY_SPACE_RE.sub(' ', text) # replace REPLACE_BY_SPACE_RE symbols by space in text. substitute the matched string in REPLACE_BY_SPACE_RE with space.\n",
    "    text = BAD_SYMBOLS_RE.sub('', text) # remove symbols which are in BAD_SYMBOLS_RE from text. substitute the matched string in BAD_SYMBOLS_RE with nothing. \n",
    "    text = text.replace('x', '')\n",
    "#    text = re.sub(r'\\W+', '', text)\n",
    "    text = ' '.join(word for word in text.split() if word not in STOPWORDS) # remove stopwors from text\n",
    "    return text\n",
    "\n",
    "nc = clean_text(text = new_case)\n",
    "nc"
   ]
  },
  {
   "cell_type": "code",
   "execution_count": 49,
   "id": "bed9dab3",
   "metadata": {},
   "outputs": [
    {
     "name": "stdout",
     "output_type": "stream",
     "text": [
      "1/1 [==============================] - 0s 65ms/step\n",
      "[[4.0399078e-02 3.8605982e-03 6.5266655e-04 2.2354666e-02 4.2565293e-03\n",
      "  8.1080467e-02 5.4761614e-03 2.1628998e-04 8.3666742e-01 4.6858541e-03\n",
      "  3.5030671e-04]]\n",
      "[0.00021628998, 0.0003503067, 0.00065266655, 0.0038605982, 0.0042565293, 0.004685854, 0.0054761614, 0.022354666, 0.04039908, 0.08108047, 0.8366674]\n",
      "Physical injury\n",
      "0.8366674\n"
     ]
    }
   ],
   "source": [
    "new_case = [nc]\n",
    "seq = tokenizer.texts_to_sequences(new_case)\n",
    "padded = pad_sequences(seq, maxlen=MAX_SEQUENCE_LENGTH)\n",
    "pred = model.predict(padded)\n",
    "print(pred)\n",
    "sorted_pred = sorted(pred[0])\n",
    "print(sorted_pred)\n",
    "print(labels[np.argmax(pred)])\n",
    "print(np.max(pred))"
   ]
  },
  {
   "cell_type": "code",
   "execution_count": 51,
   "id": "26a34928",
   "metadata": {},
   "outputs": [
    {
     "data": {
      "text/plain": [
       "('Physical injury', 0.8366674)"
      ]
     },
     "execution_count": 51,
     "metadata": {},
     "output_type": "execute_result"
    }
   ],
   "source": [
    "labels[np.argmax(pred)], np.max(pred)"
   ]
  },
  {
   "cell_type": "code",
   "execution_count": 60,
   "id": "fbdc9764",
   "metadata": {},
   "outputs": [],
   "source": [
    "def predict_conditions(new_case):\n",
    "    new_case = [new_case]\n",
    "    #print(new_case)\n",
    "    seq = tokenizer.texts_to_sequences(new_case)\n",
    "    padded = pad_sequences(seq, maxlen=MAX_SEQUENCE_LENGTH)\n",
    "    pred = model.predict(padded)\n",
    "    sorted_pred = sorted(pred[0])\n",
    "    if sorted_pred[-1]-sorted_pred[-2] >= roc_t:\n",
    "        #print (\"Final Clinical Classifiaction Prediction\")\n",
    "        #print(labels[np.argmax(pred)])\n",
    "        clinical_class_1 = labels[np.argmax(pred)] \n",
    "        clinical_class_2 = None\n",
    "    else:\n",
    "        #print(\"First Prediction\")\n",
    "        #print(labels[np.argmax(pred)])\n",
    "        #print(\"\")\n",
    "        #print(\"Second Prediction\")\n",
    "        #print(labels[list(pred[0]).index(sorted_pred[-2])])\n",
    "        clinical_class_1 = labels[np.argmax(pred)]\n",
    "        clinical_class_2 = labels[list(pred[0]).index(sorted_pred[-2])]\n",
    "    return clinical_class_1, clinical_class_2"
   ]
  },
  {
   "cell_type": "code",
   "execution_count": 61,
   "id": "d289d870",
   "metadata": {},
   "outputs": [
    {
     "name": "stdout",
     "output_type": "stream",
     "text": [
      "1/1 [==============================] - 0s 67ms/step\n",
      "CPU times: total: 109 ms\n",
      "Wall time: 115 ms\n"
     ]
    },
    {
     "data": {
      "text/plain": [
       "('Physical injury', None)"
      ]
     },
     "execution_count": 61,
     "metadata": {},
     "output_type": "execute_result"
    }
   ],
   "source": [
    "%%time\n",
    "predict_conditions(nc)"
   ]
  },
  {
   "cell_type": "code",
   "execution_count": 62,
   "id": "eb22ac77",
   "metadata": {},
   "outputs": [],
   "source": [
    "def preprocess_and_predict_input_data(new_case_description):\n",
    "    nc = clean_text(text = new_case_description)\n",
    "    cc1, cc2 = predict_conditions(nc)\n",
    "    return cc1, cc2\n",
    "    "
   ]
  }
 ],
 "metadata": {
  "kernelspec": {
   "display_name": "Python 3 (ipykernel)",
   "language": "python",
   "name": "python3"
  },
  "language_info": {
   "codemirror_mode": {
    "name": "ipython",
    "version": 3
   },
   "file_extension": ".py",
   "mimetype": "text/x-python",
   "name": "python",
   "nbconvert_exporter": "python",
   "pygments_lexer": "ipython3",
   "version": "3.9.12"
  }
 },
 "nbformat": 4,
 "nbformat_minor": 5
}
